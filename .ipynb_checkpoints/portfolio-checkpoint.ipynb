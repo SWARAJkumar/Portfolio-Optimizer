{
 "cells": [
  {
   "cell_type": "code",
   "execution_count": 55,
   "metadata": {
    "collapsed": true
   },
   "outputs": [],
   "source": [
    "from keras.models import Sequential\n",
    "from keras.layers.recurrent import LSTM\n",
    "from keras.layers.core import Activation, Dropout,Dense\n",
    "import pandas as pd\n",
    "import numpy as np\n",
    "import matplotlib.pyplot as plt\n",
    "import os\n",
    "import time"
   ]
  },
  {
   "cell_type": "code",
   "execution_count": 36,
   "metadata": {
    "collapsed": true
   },
   "outputs": [],
   "source": [
    "\n",
    "def get_path(symbol) :\n",
    "    return os.path.join('{}.csv'.format(str(symbol)))\n",
    "\n",
    "def get_data(symbols,dates):\n",
    "    df=pd.DataFrame(index=dates)\n",
    "\n",
    "    if 'SPY' not in symbols:\n",
    "        symbols.insert(0,'SPY')\n",
    "\n",
    "    for s in symbols:\n",
    "        df_temp=pd.read_csv(get_path(s),usecols=['Date','Adj Close'],index_col='Date',parse_dates=True,na_values=['nan'])\n",
    "        df_temp=df_temp.rename(columns={'Adj Close':s})\n",
    "        df=df.join(df_temp)\n",
    "        if s=='SPY':\n",
    "            df=df.dropna(subset=['SPY'])\n",
    "    return df\n",
    "dates = pd.date_range('2010-08-12', '2017-08-12')\n",
    "symbols = ['AAPL', 'SPY']\n",
    "df = get_data(symbols, dates)"
   ]
  },
  {
   "cell_type": "code",
   "execution_count": 66,
   "metadata": {},
   "outputs": [
    {
     "name": "stdout",
     "output_type": "stream",
     "text": [
      "(1541, 50, 1)\n",
      "(1541,)\n"
     ]
    }
   ],
   "source": [
    "def normalise_windows(window_data):\n",
    "    normalised_data = []\n",
    "    for window in window_data:\n",
    "        normalised_window = [((float(p) / float(window[0])) - 1) for p in window]\n",
    "        normalised_data.append(normalised_window)\n",
    "    return normalised_data\n",
    "\n",
    "seq_len=50\n",
    "sequence_length = seq_len + 1\n",
    "result = []\n",
    "for index in range(len(df['AAPL']) - sequence_length):\n",
    "    result.append(df['AAPL'][index: index + sequence_length])\n",
    "    \n",
    "result = normalise_windows(result)\n",
    "\n",
    "result = np.array(result)\n",
    "\n",
    "row = round(0.9 * result.shape[0])\n",
    "train = result[:int(row), :]\n",
    "np.random.shuffle(train)\n",
    "x_train = train[:, :-1]\n",
    "y_train = train[:, -1]\n",
    "x_test = result[int(row):, :-1]\n",
    "y_test = result[int(row):, -1]\n",
    "\n",
    "x_train = np.reshape(x_train, (x_train.shape[0], x_train.shape[1], 1))\n",
    "x_test = np.reshape(x_test, (x_test.shape[0], x_test.shape[1], 1))  \n",
    "\n",
    "print(x_train.shape)\n",
    "print(y_train.shape)"
   ]
  },
  {
   "cell_type": "code",
   "execution_count": 94,
   "metadata": {},
   "outputs": [
    {
     "name": "stderr",
     "output_type": "stream",
     "text": [
      "c:\\users\\swaraj\\appdata\\local\\programs\\python\\python35\\lib\\site-packages\\ipykernel_launcher.py:4: UserWarning: The `input_dim` and `input_length` arguments in recurrent layers are deprecated. Use `input_shape` instead.\n",
      "  after removing the cwd from sys.path.\n",
      "c:\\users\\swaraj\\appdata\\local\\programs\\python\\python35\\lib\\site-packages\\ipykernel_launcher.py:4: UserWarning: Update your `LSTM` call to the Keras 2 API: `LSTM(return_sequences=True, units=50, input_shape=(None, 1))`\n",
      "  after removing the cwd from sys.path.\n"
     ]
    },
    {
     "name": "stdout",
     "output_type": "stream",
     "text": [
      "Compilation Time :  0.02066826820373535\n"
     ]
    },
    {
     "name": "stderr",
     "output_type": "stream",
     "text": [
      "c:\\users\\swaraj\\appdata\\local\\programs\\python\\python35\\lib\\site-packages\\ipykernel_launcher.py:14: UserWarning: Update your `Dense` call to the Keras 2 API: `Dense(units=1)`\n",
      "  \n"
     ]
    }
   ],
   "source": [
    "model= Sequential()\n",
    "model.add(LSTM(input_dim=1,\n",
    "              output_dim=50,\n",
    "              return_sequences=True))\n",
    "\n",
    "model.add(Dropout(0.2))\n",
    "\n",
    "model.add(LSTM(\n",
    "        100,\n",
    "        return_sequences=False))\n",
    "\n",
    "model.add(Dropout(0.2))\n",
    "\n",
    "model.add(Dense(output_dim=1))\n",
    "\n",
    "model.add(Activation(\"linear\"))\n",
    "\n",
    "start = time.time()\n",
    "model.compile(loss=\"mse\", optimizer=\"rmsprop\")\n",
    "print (\"Compilation Time : \", time.time() - start)"
   ]
  },
  {
   "cell_type": "code",
   "execution_count": 95,
   "metadata": {},
   "outputs": [
    {
     "name": "stderr",
     "output_type": "stream",
     "text": [
      "c:\\users\\swaraj\\appdata\\local\\programs\\python\\python35\\lib\\site-packages\\keras\\models.py:844: UserWarning: The `nb_epoch` argument in `fit` has been renamed `epochs`.\n",
      "  warnings.warn('The `nb_epoch` argument in `fit` '\n"
     ]
    },
    {
     "name": "stdout",
     "output_type": "stream",
     "text": [
      "Train on 1463 samples, validate on 78 samples\n",
      "Epoch 1/1\n",
      "1463/1463 [==============================] - 3s - loss: 0.0130 - val_loss: 0.0037\n"
     ]
    },
    {
     "data": {
      "text/plain": [
       "<keras.callbacks.History at 0x1b998697ef0>"
      ]
     },
     "execution_count": 95,
     "metadata": {},
     "output_type": "execute_result"
    }
   ],
   "source": [
    "model.fit(x_train,y_train,batch_size=1024,nb_epoch=1,validation_split=0.05)"
   ]
  },
  {
   "cell_type": "code",
   "execution_count": 96,
   "metadata": {},
   "outputs": [
    {
     "name": "stdout",
     "output_type": "stream",
     "text": [
      "[[0.016739357, 0.017124198, 0.018045265, 0.01937459, 0.020994525, 0.022805907, 0.024732508, 0.02671707, 0.028718971, 0.030709837, 0.03267115, 0.034590516, 0.036461323, 0.038279504, 0.040043764, 0.041753531, 0.043409631, 0.04501316, 0.046565615, 0.048068441, 0.049523372, 0.050931614, 0.052294891, 0.05361563, 0.054894753, 0.056133587, 0.057333332, 0.058495797, 0.059621647, 0.060712453, 0.061769329, 0.062792696, 0.063783981, 0.06474448, 0.065675989, 0.066578336, 0.067453429, 0.068300962, 0.069121487, 0.0699168, 0.070687629, 0.071434349, 0.07215818, 0.072860025, 0.073540233, 0.074199714, 0.074839085, 0.075459182, 0.076060623, 0.076643571], [0.15225774, 0.15614875, 0.15845892, 0.15954685, 0.15973225, 0.15927754, 0.15838432, 0.15720381, 0.15584417, 0.1543816, 0.15286781, 0.15133749, 0.14981304, 0.14830868, 0.14683251, 0.14538905, 0.14398119, 0.1426097, 0.1412749, 0.13997602, 0.13871251, 0.13748334, 0.13628745, 0.1351241, 0.13399284, 0.13289259, 0.13182293, 0.13078299, 0.12977147, 0.12878808, 0.12783213, 0.12690273, 0.12599923, 0.12512101, 0.12426672, 0.12343644, 0.12262953, 0.12184544, 0.12108354, 0.12034053, 0.11961892, 0.11891772, 0.11823613, 0.11757362, 0.11692991, 0.1163043, 0.11569672, 0.11510614, 0.11453192, 0.11397408], [0.064456224, 0.065455213, 0.066430643, 0.067370437, 0.068271019, 0.069132604, 0.069957428, 0.070748463, 0.071507975, 0.072239548, 0.072944961, 0.073626451, 0.074285351, 0.074923165, 0.075540833, 0.076139085, 0.076718852, 0.077280872, 0.07782536, 0.078353271, 0.078865319, 0.079361506, 0.079843082, 0.080309711, 0.080762371, 0.081201434, 0.081627145, 0.082039319, 0.082439087, 0.08282692, 0.083203174, 0.083568119, 0.083921842, 0.084265143, 0.084598213, 0.08492136, 0.085234813, 0.085539237, 0.085834436, 0.086120911, 0.086398594, 0.086668089, 0.086929627, 0.087182872, 0.0874286, 0.087666675, 0.087897472, 0.08812166, 0.088339143, 0.08855018]]\n"
     ]
    }
   ],
   "source": [
    "prediction_seqs = []\n",
    "prediction_len=50\n",
    "window_size=50\n",
    "for i in range(len(x_test)//prediction_len):\n",
    "    curr_frame = x_test[i*prediction_len]\n",
    "    predicted = []\n",
    "    for j in range(prediction_len):\n",
    "        predicted.append(model.predict(curr_frame[np.newaxis,:,:])[0,0])\n",
    "        curr_frame = curr_frame[1:]\n",
    "        curr_frame = np.insert(curr_frame, [window_size-1], predicted[-1], axis=0)\n",
    "    prediction_seqs.append(predicted)\n",
    "\n",
    "print(prediction_seqs)"
   ]
  },
  {
   "cell_type": "code",
   "execution_count": 97,
   "metadata": {},
   "outputs": [
    {
     "data": {
      "image/png": "[encoded data removed]",
      "text/plain": [
       "<matplotlib.figure.Figure at 0x1b9996f9c18>"
      ]
     },
     "metadata": {},
     "output_type": "display_data"
    }
   ],
   "source": [
    "def plot_results_multiple(predicted_data, true_data, prediction_len):\n",
    "    fig = plt.figure(facecolor='white')\n",
    "    ax = fig.add_subplot(111)\n",
    "    ax.plot(true_data, label='True Data')\n",
    "    #Pad the list of predictions to shift it in the graph to it's correct start\n",
    "    for i, data in enumerate(predicted_data):\n",
    "        padding = [None for p in range(i * prediction_len)]\n",
    "        plt.plot(padding + data, label='Prediction')\n",
    "        plt.legend()\n",
    "    plt.show()\n",
    "    \n",
    "plot_results_multiple(prediction_seqs, y_test,50)"
   ]
  },
  {
   "cell_type": "code",
   "execution_count": null,
   "metadata": {
    "collapsed": true
   },
   "outputs": [],
   "source": []
  }
 ],
 "metadata": {
  "kernelspec": {
   "display_name": "Python 3",
   "language": "python",
   "name": "python3"
  },
  "language_info": {
   "codemirror_mode": {
    "name": "ipython",
    "version": 3
   },
   "file_extension": ".py",
   "mimetype": "text/x-python",
   "name": "python",
   "nbconvert_exporter": "python",
   "pygments_lexer": "ipython3",
   "version": "3.5.3"
  }
 },
 "nbformat": 4,
 "nbformat_minor": 2
}
